{
 "cells": [
  {
   "cell_type": "markdown",
   "metadata": {},
   "source": [
    "## a fake serial device to practice on"
   ]
  },
  {
   "cell_type": "code",
   "execution_count": 1,
   "metadata": {},
   "outputs": [],
   "source": [
    "# fakeSerial.py\n",
    "# D. Thiebaut\n",
    "\n",
    "# a Serial class emulator \n",
    "class Serial:\n",
    "\n",
    "    ## init(): the constructor.  Many of the arguments have default values\n",
    "    # and can be skipped when calling the constructor.\n",
    "    def __init__( self, port='/dev/ttyS1', baudrate = 4800, timeout=1,\n",
    "                  bytesize = 8, parity = 'N', stopbits = 1, xonxoff=0,\n",
    "                  rtscts = 0):\n",
    "        self.name     = port\n",
    "        self.port     = port\n",
    "        self.timeout  = timeout\n",
    "        self.parity   = parity\n",
    "        self.baudrate = baudrate\n",
    "        self.bytesize = bytesize\n",
    "        self.stopbits = stopbits\n",
    "        self.xonxoff  = xonxoff\n",
    "        self.rtscts   = rtscts\n",
    "        self._isOpen  = True\n",
    "        self._receivedData = \"\"\n",
    "#         self._data = \"It was the best of times.\\nIt was the worst of times.\\n\"\n",
    "        self._data = bytearray([0x01, 0x04, 0x49, 0x31, 0x6C, 0x00]) # typical 6 byte pulser response\n",
    "\n",
    "    ## isOpen()\n",
    "    # returns True if the port to the Arduino is open.  False otherwise\n",
    "    def isOpen( self ):\n",
    "        return self._isOpen\n",
    "\n",
    "    ## open()\n",
    "    # opens the port\n",
    "    def open( self ):\n",
    "        self._isOpen = True\n",
    "\n",
    "    ## close()\n",
    "    # closes the port\n",
    "    def close( self ):\n",
    "        self._isOpen = False\n",
    "\n",
    "    ## write()\n",
    "    # writes a string of characters to the Arduino\n",
    "    def write( self, string ):\n",
    "        print( 'Arduino got: \"' + string + '\"' )\n",
    "        self._receivedData += string\n",
    "\n",
    "    ## read()\n",
    "    # reads n characters from the fake Arduino. Actually n characters\n",
    "    # are read from the string _data and returned to the caller.\n",
    "    def read( self, n=1 ):\n",
    "        s = self._data[0:n]\n",
    "        self._data = self._data[n:]\n",
    "        #print( \"read: now self._data = \", self._data )\n",
    "        return s\n",
    "\n",
    "    ## readline()\n",
    "    # reads characters from the fake Arduino until a \\n is found.\n",
    "    def readline( self ):\n",
    "        returnIndex = self._data.index( \"\\n\" )\n",
    "        if returnIndex != -1:\n",
    "            s = self._data[0:returnIndex+1]\n",
    "            self._data = self._data[returnIndex+1:]\n",
    "            return s\n",
    "        else:\n",
    "            return \"\"\n",
    "\n",
    "    ## __str__()\n",
    "    # returns a string representation of the serial class\n",
    "    def __str__( self ):\n",
    "        return  \"Serial<id=0xa81c10, open=%s>( port='%s', baudrate=%d,\" \\\n",
    "               % ( str(self.isOpen), self.port, self.baudrate ) \\\n",
    "               + \" bytesize=%d, parity='%s', stopbits=%d, xonxoff=%d, rtscts=%d)\"\\\n",
    "               % ( self.bytesize, self.parity, self.stopbits, self.xonxoff,\n",
    "                   self.rtscts )"
   ]
  },
  {
   "cell_type": "code",
   "execution_count": 2,
   "metadata": {},
   "outputs": [],
   "source": [
    "# testSerialSimulator.py\n",
    "# D. Thiebaut\n",
    "# This program energizes the fakeSerial simulator using example code taken\n",
    "# from http://pyserial.sourceforge.net/shortintro.html\n",
    "#\n",
    "\n",
    "# import the simulator module (it should be in the same directory as this program)\n",
    "# import fakeSerial as serial\n",
    "\n",
    "\n",
    "# Example 1  from http://pyserial.sourceforge.net/shortintro.html\n",
    "def Example1():\n",
    "#     ser = serial.Serial(0)  # open first serial port\n",
    "    ser = Serial(0)  # open first serial port\n",
    "    print( ser.name )       # check which port was really used\n",
    "    ser.write(\"hello\")      # write a string\n",
    "    ser.close()             # close port\n",
    "\n",
    "# Example 2  from http://pyserial.sourceforge.net/shortintro.html\n",
    "def Example2():\n",
    "#     ser = serial.Serial('/dev/ttyS1', 19200, timeout=1)\n",
    "    ser = Serial('/dev/ttyS1', 19200, timeout=1)\n",
    "    x = ser.read()          # read one byte\n",
    "    print( \"x = \", x )\n",
    "    s = ser.read(10)        # read up to ten bytes (timeout)\n",
    "    print( \"s = \", s )\n",
    "    line = ser.readline()   # read a '\\n' terminated line\n",
    "    ser.close()\n",
    "    print( \"line = \", line )\n",
    "\n",
    "# Example 3  from http://pyserial.sourceforge.net/shortintro.html\n",
    "def Example3():\n",
    "#     ser = serial.Serial()\n",
    "    ser = Serial()\n",
    "    ser.baudrate = 19200\n",
    "    ser.port = 0\n",
    "    print( ser )\n",
    "    \n",
    "    ser.open()\n",
    "    print( str( ser.isOpen() ) )\n",
    "\n",
    "    ser.close()\n",
    "    print( ser.isOpen() )\n",
    "    \n",
    "\n",
    "# Example1()\n",
    "# Example2()\n",
    "# Example3()\n"
   ]
  },
  {
   "cell_type": "markdown",
   "metadata": {},
   "source": [
    "## background info gleaned from the manual"
   ]
  },
  {
   "cell_type": "code",
   "execution_count": 3,
   "metadata": {},
   "outputs": [],
   "source": [
    "# D Command - enter assign address mode\n",
    "# 0x00 0x00 0x44 0x00 0x00\n",
    "\n",
    "# I Command - information\n",
    "# 0x00 0x00 0x49 Value 0x00\n",
    "# value = \n",
    "# 0x00 - returns 9 bytes - instrument type\n",
    "# 0x01 - returns 9 - instrument serial number\n",
    "# 0x02 - returns 5 - firmware and hardware revisions\n",
    "# 0x03 - returns 9 - hardware serial number\n",
    "# 0x04 - returns 5 - bandwidth\n",
    "# 0x05 - returns 6 - max excitation pulse amplitude\n",
    "# 0x06 - returns 19 - highpass filter cutoff frequencies\n",
    "# 0x07 - returns 19 - lowpass filter cutoff frequencies\n",
    "# 0x08 - returns 20 - pulser energy capacitor values\n",
    "# 0x09 - returns 5 - front panel hardware and firmware revisions\n",
    "# 0x0A - returns 10 - gain range\n",
    "\n",
    "# A Command - assign instrument address - 0x01 is OK\n",
    "# 0x00 0x00 0x41 Address 0x00\n",
    "\n",
    "# E Command - exit assign address mode\n",
    "# 0x00 0x00 0x45 Address 0x00\n",
    "\n",
    "# Function Control\n",
    "# Address 0x00 Command Value 0x00\n",
    "\n",
    "# [b] Blink Command - sets the blink rate of the power LED\n",
    "# Byte 3 = 0x62\n",
    "# Byte 4 = 100-255 100 = Blink Slowly, ... 254 = Blink Rapidly, 255 = LED fully on.\n",
    "\n",
    "# [c] Configure Command\n",
    "# Byte 3 = 0x63\n",
    "# Byte 4 = 0x00 to 0x03\n",
    "# If Byte 4 bit 0 is set to 0, a 5kHz limit will be applied to ext. triggering. Trigger \n",
    "# pulses that exceed this rate will be ignored. Set bit 0 to 1 to disable this feature.\n",
    "# If Byte 4 bit 1 is set to 0, automatic update messages will be sent to the remote PC to\n",
    "# confirm front panel control changes. Set bit 1 to 1 to disable this feature.\n",
    "\n",
    "# [d] Damping Command - sets the damping impedance value\n",
    "# Byte 3 = 0x64\n",
    "# Byte 4 = 0-15\n",
    "# The damping impedance, in Ohms, for Byte 4 values from 0 - 15 are,\n",
    "# 1000, 333, 200, 143, 111, 91, 77, 67, 58, 52, 47, 43, 40, 37, 34, and 32 respectively.\n",
    "\n",
    "# [e] Energy Command - sets the energy value for the pulser. \n",
    "# Byte 3 = 0x65\n",
    "# Byte 4 = 0-3\n",
    "# Sets pulse energy level (0 - 3) => (min, .. , max)\n",
    "# The energy contained in a pulse is a function of both the 0 - 3 pulse energy control value\n",
    "# and the 0 - 15 pulser voltage control value. Expressed as a function, the pulse energy is:\n",
    "# Pulse Energy (Joules) = L*(100 + 25*V) 2 for 475V pulsers\n",
    "# Pulse Energy (Joules) = L*(100 + 53.3*V) 2 for 900V pulsers\n",
    "# where the value of L for the corresponding pulse energy control values (0,1,2,3) is,\n",
    "# respectively, (155 x10 -12 , 310 x10 -12 , 675 x10 -12 , 1350x10 -12 ), and V is the pulse voltage\n",
    "# function value, (0,..,15). For example, for a 475V pulser with the maximum energy control\n",
    "# value of 3 and V = 15, the pulse energy equals .3046 mJ\n",
    "# See also the PRF command regarding allowable limits to\n",
    "# the pulser firing rate for DPR300 units with the 900V pulser voltage option installed.\n",
    "\n",
    "# [g] Gain Command - sets the receiver gain\n",
    "# Byte 3 = 0x67\n",
    "# Byte 4 = 0-79\n",
    "# Sets gain in 1 dB steps (0 - 79) => (-13, .. , 66) dB\n",
    "\n",
    "# [h] High Pass Filter Command\n",
    "# Byte 3 = 0x68\n",
    "# Byte 4 = 0-5\n",
    "# Sets high pass filter \n",
    "# (0 - 5) => (DC, 1, 2.5, 5, 7.5, 12.5) MHz.\n",
    "\n",
    "# [l] Low Pass Filter Command\n",
    "# Byte 3 = 0x6C\n",
    "# Byte 4 = 0-5\n",
    "# Sets low pass filter\n",
    "# (0 - 5) => (3, 7.5, 10, 15, 22.5, 35) for 35 MHz\n",
    "# (0 - 5) => (5, 10, 15, 22.5, 35, 50) for 50 MHz.\n",
    "\n",
    "# [m] Mode Command\n",
    "# This command selects which functions should respond to front panel control. In other\n",
    "# words, manual controls can either be totally or selectively disabled in DPR300 units that\n",
    "# possess both a manual front panel and remote PC control options. Two data bytes are\n",
    "# required for the mode command and thus the mode command consists of the following byte\n",
    "# sequence:\n",
    "# Byte1 Byte2\n",
    "# Address 0x01\n",
    "# Byte3\n",
    "# 0x6D\n",
    "# Byte4\n",
    "# Value\n",
    "# Byte5\n",
    "# Value\n",
    "# Byte6\n",
    "# 0x00\n",
    "# The Byte 4 and Byte 5 bit values correspond to the following DPR300 functions:\n",
    "# Byte 4 bits0 - 5 Unassigned\n",
    "# bit6 - Pulser impedance\n",
    "# bit7 - Pulser voltage\n",
    "# Byte 5 bit0 - Echo/Through receiver source\n",
    "# bit1 - Int/Ext trigger source for pulser\n",
    "# bit2 - PRF (Internal trigger pulse repetition frequency)\n",
    "# bit3 - Pulser energy\n",
    "# bit4 - Receiver low pass filter\n",
    "# bit5 - Receiver high pass filter\n",
    "# bit6 - Receiver gain\n",
    "# bit7 - Pulser damping\n",
    "# When a mode bit is set to value 1, the corresponding function will respond to the front\n",
    "# panel controls. When the bit is set to value 0, the function will not respond to the front\n",
    "# panel. Any combination of front panel controls may be enabled or disabled. To enable\n",
    "# all front panel controls, set the mode byte values to 0xFF.\n",
    "\n",
    "# [o] Pulser On/Off Command\n",
    "# The pulser on/off command enables/disables the pulser from firing and enables/disables the\n",
    "# pulser voltage supply. When the pulser is disabled and then enabled, a short recovery\n",
    "# period of 500 mSec is necessary to allow the pulser voltage supply to stabilize. For fastest\n",
    "# power supply recovery, the pulser should not be fired during this recovery period.\n",
    "# Byte 3 = 0x6F\n",
    "# Byte 4 = 0,1\n",
    "# Disable/enable pulser\n",
    "# (0,1) => (Disable, Enable)\n",
    "# There is no Pulser on/off switch on the front panel. Thus, the ‘o’ command is unaffected by\n",
    "# the mode command described above. The ‘o’ command can be used to disable the pulser\n",
    "# even if the mode command has configured all instrument functions to be controlled by the\n",
    "# front panel.\n",
    "\n",
    "# [p] PRF Command - selects the pulse repetition frequency (PRF) of the pulser when internal\n",
    "# triggering is selected.\n",
    "# Byte 3 = 0x70\n",
    "# Byte 4 = 0-15\n",
    "# Program Control Values in Hz. corresponding to the PRF function values (index) from 0 -\n",
    "# 15 are, respectively, 100, 200, 400, 600, 800, 1000, 1250, 1500, 1750,\n",
    "# 2000, 2500, 3000, 3500, 4000, 4500, and 5000. \n",
    "# DPR300 instruments with the 900V pulser option automatically limit the PRF when the\n",
    "# instrument is operating in internal-trigger mode so as to protect the pulser against excess\n",
    "# power dissipation. The applied PRF limit depends upon the pulser voltage and energy\n",
    "# settings. The following table expresses the recommended maximum PRF index as a\n",
    "# function of the pulser voltage index and the pulser energy index.\n",
    "\n",
    "# [r] Receiver Command - selects between Pulse-Echo and Through mode operation\n",
    "# Byte 3 = 0x72\n",
    "# Byte 4 = 0,1\n",
    "# Sets Receiver to Echo/Through (0,1) => (Echo, Through)\n",
    "\n",
    "# [t] Trigger Command - selects between internal and external triggering\n",
    "# Byte 3 = 0x74\n",
    "# Byte 4 = 0,1\n",
    "# Sets Int/Ext trigger source\n",
    "# (0,1) => (Internal, External)\n",
    "\n",
    "# [v] Voltage Command - selects the pulser voltage.\n",
    "# See also the PRF command regarding allowable limits to the pulser\n",
    "# firing rate for DPR300 units with the 900V pulser voltage option installed.\n",
    "# Byte 3 = 0x76\n",
    "# Byte 4 = 0-15\n",
    "# The pulser voltage supply values in Volts corresponding to the pulser\n",
    "# voltage function values from 0 - 15 are, respectively 100, 125, 150, 175,\n",
    "# 200, 225, 250, 275, 300, 325, 350, 375, 400, 425, 450, and 475. Each\n",
    "# step increments the pulser supply voltage by 25 volts. For DPR300 units\n",
    "# with the 900V pulser option, the voltages corresponding to the function\n",
    "# values 0 - 15 are, respectively, 100, 153, 207, 260, 313, 367, 420, 473,\n",
    "# 527, 580, 633, 687, 740, 793, 847, and 900.\n",
    "\n",
    "# [z] Impedance Command - selects between low and high pulser impedance\n",
    "# Byte 3 = 0x7A\n",
    "# Byte 4 = 0,1\n",
    "# Sets pulser impedance (0,1) => (max, min) Ohms.\n",
    "\n",
    "\n",
    "# Response to Commands - returns 6 bytes\n",
    "# Following the issuance of a command, the addressed instrument will confirm that the command\n",
    "# has been implemented by responding with the byte sequence shown below:\n",
    "\n",
    "# Byte 1 Byte 2 Byte 3 Byte 4 Byte 5 Byte 6\n",
    "# Address 0x04 Command Value 'FP Value\" Indicator\n",
    "\n",
    "# where ‘Address’ is the instrument address. Byte 2 describes the number of bytes that follow\n",
    "# starting with Byte 3 (four bytes in the above example). ‘Command’ is the byte value of the\n",
    "# received command, Byte 4 is the data byte received with the command and Byte 5 is the current\n",
    "# value of the associated front panel control. Indicator Byte 6 has value 0x00 or 0x01 if the\n",
    "# instrument function was last set to the Byte 4 or Byte 5 value respectively.\n"
   ]
  },
  {
   "cell_type": "markdown",
   "metadata": {},
   "source": [
    "## a dictionary to hold all command structures"
   ]
  },
  {
   "cell_type": "code",
   "execution_count": 4,
   "metadata": {},
   "outputs": [],
   "source": [
    "cmdDict = \\\n",
    "    {'D': [0x00, 0x00, 0x44, 0x00, 0x00],\n",
    "     'I': [0x31, 0x32, 0x49, 'Value', 0x00],\n",
    "     'E': [0x00, 0x00, 0x45, 'Address', 0x00],\n",
    "     'A': [0x00, 0x00, 0x41, 'Address', 0x00],\n",
    "     'F': ['Address', 0x00, 'Command', 0x00],\n",
    "         'FC': {'b': [0x62, 'Value'],\n",
    "                'c': [0x63, 'Value'],\n",
    "                'd': [0x64, 'Value'],\n",
    "                'e': [0x65, 'Value'],\n",
    "                'g': [0x67, 'Value'],\n",
    "                'h': [0x68, 'Value'],\n",
    "                'l': [0x6C, 'Value'],\n",
    "                'o': [0x6F, 'Value'],\n",
    "                'p': [0x70, 'Value'],\n",
    "                'r': [0x72, 'Value'],\n",
    "                't': [0x74, 'Value'],\n",
    "                'v': [0x76, 'Value'],\n",
    "                'z': [0x7A, 'Value'],\n",
    "               },\n",
    "     'M': ['Address', 0x01, 0x6D, 'Value', 'Value2', 0x00],\n",
    "     'Q': ['Address', 0x00, 'Query', 0x00, 0x00],\n",
    "         'QC': {'b': [0xE2],\n",
    "                'c': [0xE3],\n",
    "                'd': [0xE4],\n",
    "                'e': [0xE5],\n",
    "                'g': [0xE6],\n",
    "                'h': [0xE7],\n",
    "                'i': [0xE9],\n",
    "                'l': [0xE8],\n",
    "                'o': [0xE9],\n",
    "                'p': [0xEC],\n",
    "                'r': [0xED],\n",
    "                's': [0xF3],\n",
    "                't': [0xF4],\n",
    "                'v': [0xF6],\n",
    "                'z': [0xFA],\n",
    "               },\n",
    "    }"
   ]
  },
  {
   "cell_type": "markdown",
   "metadata": {},
   "source": [
    "## a function to build a command byte array to send to serial port"
   ]
  },
  {
   "cell_type": "code",
   "execution_count": 5,
   "metadata": {},
   "outputs": [],
   "source": [
    "def buildCommand(Command, subCommand=None, Address=None, Value=None, Value2=None):\n",
    "    \n",
    "    if Command == 'D':\n",
    "        cmd = cmdDict['D'].copy()\n",
    "        print (cmd)\n",
    "        return bytearray(cmd)\n",
    "    \n",
    "    if Command == 'I':\n",
    "        cmd = cmdDict['I'].copy()\n",
    "        print (cmd)\n",
    "        cmd[3] = eval(cmd[3])\n",
    "        return bytearray(cmd)\n",
    "    \n",
    "    if Command == 'E':\n",
    "        cmd = cmdDict['E'].copy()\n",
    "        print (cmd)\n",
    "        cmd[3] = eval(cmd[3])\n",
    "        return bytearray(cmd)\n",
    "    \n",
    "    if Command == 'A':\n",
    "        cmd = cmdDict['A'].copy()\n",
    "        print (cmd)\n",
    "        cmd[3] = eval(cmd[3])\n",
    "        return bytearray(cmd)\n",
    "    \n",
    "    if Command == 'F':\n",
    "        cmd = cmdDict['F'].copy()\n",
    "        print (cmd)\n",
    "        cmd[0] = eval(cmd[0])\n",
    "        \n",
    "        # subCommand: ['b','c','d','e','g','h','l','o','p','r','t','v','z']:\n",
    "        subcmd = cmdDict['FC'][subCommand].copy()\n",
    "        i = cmd.index('Command')\n",
    "        cmd[i:i+1] = subcmd[0], eval(subcmd[1])\n",
    "        return bytearray(cmd)\n",
    "       \n",
    "    if Command == 'M':\n",
    "        cmd = cmdDict['M'].copy()\n",
    "        print (cmd)\n",
    "        cmd[0] = eval(cmd[0])\n",
    "        cmd[3] = eval(cmd[3])\n",
    "        cmd[4] = eval(cmd[4])\n",
    "        return bytearray(cmd)\n",
    "    \n",
    "    if Command == 'Q':\n",
    "        cmd = cmdDict['Q'].copy()\n",
    "        print (cmd)\n",
    "        cmd[0] = eval(cmd[0])\n",
    "        \n",
    "        # subCommand: ['b','c','d','e','g','h','i', l','o','p','r','s',t','v','z']:\n",
    "        subcmd = cmdDict['QC'][subCommand].copy()\n",
    "        i = cmd.index('Query')\n",
    "        cmd[i] = subcmd[0]\n",
    "        return bytearray(cmd)"
   ]
  },
  {
   "cell_type": "markdown",
   "metadata": {},
   "source": [
    "## examples of byte array commands"
   ]
  },
  {
   "cell_type": "code",
   "execution_count": 6,
   "metadata": {},
   "outputs": [
    {
     "name": "stdout",
     "output_type": "stream",
     "text": [
      "['Address', 0, 'Command', 0]\n"
     ]
    },
    {
     "data": {
      "text/plain": [
       "bytearray(b'1\\x00v\\x0f\\x00')"
      ]
     },
     "execution_count": 6,
     "metadata": {},
     "output_type": "execute_result"
    }
   ],
   "source": [
    "s = buildCommand(Command='F', subCommand='v', Address=0x31, Value=15)\n",
    "s"
   ]
  },
  {
   "cell_type": "code",
   "execution_count": 7,
   "metadata": {},
   "outputs": [
    {
     "name": "stdout",
     "output_type": "stream",
     "text": [
      "['Address', 0, 'Query', 0, 0]\n"
     ]
    },
    {
     "data": {
      "text/plain": [
       "bytearray(b'1\\x00\\xf3\\x00\\x00')"
      ]
     },
     "execution_count": 7,
     "metadata": {},
     "output_type": "execute_result"
    }
   ],
   "source": [
    "s = buildCommand(Command='Q', subCommand='s', Address=0x31)\n",
    "s"
   ]
  },
  {
   "cell_type": "code",
   "execution_count": 8,
   "metadata": {},
   "outputs": [
    {
     "name": "stdout",
     "output_type": "stream",
     "text": [
      "['Address', 1, 109, 'Value', 'Value2', 0]\n"
     ]
    },
    {
     "data": {
      "text/plain": [
       "bytearray(b'1\\x01mhi\\x00')"
      ]
     },
     "execution_count": 8,
     "metadata": {},
     "output_type": "execute_result"
    }
   ],
   "source": [
    "s = buildCommand(Command='M', Address=0x31, Value=0x68, Value2=0x69)\n",
    "s"
   ]
  },
  {
   "cell_type": "markdown",
   "metadata": {},
   "source": [
    "## practice building and sending pulser commands to another unix terminal window"
   ]
  },
  {
   "cell_type": "code",
   "execution_count": 9,
   "metadata": {},
   "outputs": [
    {
     "name": "stdout",
     "output_type": "stream",
     "text": [
      "[0, 0, 68, 0, 0]\n",
      "bytearray(b'\\x00\\x00D\\x00\\x00')\n",
      "[49, 50, 73, 'Value', 0]\n",
      "[0, 0, 65, 'Address', 0]\n",
      "[0, 0, 69, 'Address', 0]\n",
      "['Address', 0, 'Query', 0, 0]\n"
     ]
    }
   ],
   "source": [
    "import serial\n",
    "ser = serial.Serial('/dev/pts/1', 115200, timeout=1)\n",
    "# for pulser: computer should be configured to 4800 baud with 1 start\n",
    "# bit, 8 data bits, one stop bit, and no parity\n",
    "\n",
    "# D Command - enter assign address mode\n",
    "s = buildCommand(Command='D')\n",
    "print (s)\n",
    "ser.write(s)\n",
    "\n",
    "# Information\n",
    "# get instrument type\n",
    "s = buildCommand(Command='I', Value=0x00)\n",
    "ser.write(s)\n",
    "r = ser.read(size=24) # read up to 24 bytes (then timeout)\n",
    "\n",
    "# A Command - assign instrument address\n",
    "PulserAddress = 0x01\n",
    "s = buildCommand(Command='A', Address=PulserAddress)\n",
    "\n",
    "# E Command - exit assign address mode\n",
    "s = buildCommand(Command='E', Address=PulserAddress)\n",
    "\n",
    "# Q Command\n",
    "# get instrument status 's'\n",
    "s = buildCommand(Command='Q', subCommand='s', Address=PulserAddress)\n",
    "ser.write(s)\n",
    "r = ser.read(size=24) # read up to 24 bytes (then timeout)\n",
    "\n",
    "# we could now use function control and make queries\n",
    "\n",
    "# we can look at the responses from the pulser\n",
    "# print ('Address = ',   r[0])\n",
    "# print ('nbytes = ',    r[1])\n",
    "# print ('Query = ',     r[2])\n",
    "# print ('Value = ',     r[3])\n",
    "# print ('FP Value = ',  r[4])\n",
    "# print ('Indicator = ', r[5])\n",
    "# etc"
   ]
  },
  {
   "cell_type": "markdown",
   "metadata": {},
   "source": [
    "## practice reading bytes from fake serial"
   ]
  },
  {
   "cell_type": "code",
   "execution_count": 10,
   "metadata": {},
   "outputs": [
    {
     "name": "stdout",
     "output_type": "stream",
     "text": [
      "r =  bytearray(b'\\x01\\x04I1l\\x00')\n"
     ]
    }
   ],
   "source": [
    "ser = Serial('/dev/ttyS1', 19200, timeout=1)\n",
    "r = ser.read(24)        # read up to 24 bytes (then timeout)\n",
    "print( \"r = \", r )"
   ]
  },
  {
   "cell_type": "code",
   "execution_count": 11,
   "metadata": {},
   "outputs": [
    {
     "name": "stdout",
     "output_type": "stream",
     "text": [
      "1 4 73 49 108 0\n"
     ]
    }
   ],
   "source": [
    "print (r[0], r[1], r[2], r[3], r[4], r[5])"
   ]
  },
  {
   "cell_type": "code",
   "execution_count": 12,
   "metadata": {},
   "outputs": [
    {
     "data": {
      "text/plain": [
       "49"
      ]
     },
     "execution_count": 12,
     "metadata": {},
     "output_type": "execute_result"
    }
   ],
   "source": [
    "r[3]"
   ]
  },
  {
   "cell_type": "code",
   "execution_count": 13,
   "metadata": {},
   "outputs": [
    {
     "data": {
      "text/plain": [
       "'0x31'"
      ]
     },
     "execution_count": 13,
     "metadata": {},
     "output_type": "execute_result"
    }
   ],
   "source": [
    "hex(r[3])"
   ]
  },
  {
   "cell_type": "code",
   "execution_count": 14,
   "metadata": {},
   "outputs": [
    {
     "data": {
      "text/plain": [
       "'1'"
      ]
     },
     "execution_count": 14,
     "metadata": {},
     "output_type": "execute_result"
    }
   ],
   "source": [
    "chr(r[3])"
   ]
  },
  {
   "cell_type": "markdown",
   "metadata": {},
   "source": [
    "## now we could create a loop to set up instrument and change settings\n",
    "## based on some logic or external events"
   ]
  },
  {
   "cell_type": "code",
   "execution_count": null,
   "metadata": {},
   "outputs": [],
   "source": []
  }
 ],
 "metadata": {
  "jupytext": {
   "formats": "ipynb,py:light"
  },
  "kernelspec": {
   "display_name": "Python 3",
   "language": "python",
   "name": "python3"
  },
  "language_info": {
   "codemirror_mode": {
    "name": "ipython",
    "version": 3
   },
   "file_extension": ".py",
   "mimetype": "text/x-python",
   "name": "python",
   "nbconvert_exporter": "python",
   "pygments_lexer": "ipython3",
   "version": "3.8.5"
  }
 },
 "nbformat": 4,
 "nbformat_minor": 4
}
