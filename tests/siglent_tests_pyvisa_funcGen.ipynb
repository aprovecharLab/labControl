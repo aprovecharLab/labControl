{
 "cells": [
  {
   "cell_type": "code",
   "execution_count": 1,
   "id": "3bb798a4-8d18-43f4-b20d-491d42245ebe",
   "metadata": {},
   "outputs": [],
   "source": [
    "import numpy as np\n",
    "import matplotlib.pyplot as plt\n",
    "\n",
    "import pyvisa\n",
    "\n",
    "import sys\n",
    " \n",
    "%matplotlib inline"
   ]
  },
  {
   "cell_type": "markdown",
   "id": "e22151f6-df98-4453-af2c-64d7d008096f",
   "metadata": {},
   "source": [
    "## adding another folder to the system path"
   ]
  },
  {
   "cell_type": "code",
   "execution_count": 2,
   "id": "4294f2c0-ae70-49c0-a7a6-0218b86a9227",
   "metadata": {},
   "outputs": [
    {
     "data": {
      "text/plain": [
       "'/home/srbrown/Desktop/pyAcousticsLab/tests'"
      ]
     },
     "execution_count": 2,
     "metadata": {},
     "output_type": "execute_result"
    }
   ],
   "source": [
    "pwd"
   ]
  },
  {
   "cell_type": "code",
   "execution_count": 3,
   "id": "17d20937-3744-4666-8b9f-8534038cce02",
   "metadata": {},
   "outputs": [],
   "source": [
    "sys.path.insert(0, '/home/srbrown/Desktop/pyAcousticsLab/modules')"
   ]
  },
  {
   "cell_type": "code",
   "execution_count": 4,
   "id": "17a57b9c-c2f3-4869-a469-6b2320550386",
   "metadata": {},
   "outputs": [],
   "source": [
    "import SiglentSCPI_VISA_funcGen"
   ]
  },
  {
   "cell_type": "markdown",
   "id": "57fb3ef5-34e9-4e44-8dda-cefade3dab02",
   "metadata": {},
   "source": [
    "## connect to device"
   ]
  },
  {
   "cell_type": "code",
   "execution_count": 5,
   "id": "6e1ce49e-d85c-4d26-987a-1dcd55173b6e",
   "metadata": {},
   "outputs": [],
   "source": [
    "fgen = SiglentSCPI_VISA_funcGen.SCPI(\"10.42.0.147\")\n",
    "fgen.connect()"
   ]
  },
  {
   "cell_type": "code",
   "execution_count": 6,
   "id": "3f2bea30-843c-486c-b9cd-5988d318097a",
   "metadata": {},
   "outputs": [
    {
     "name": "stdout",
     "output_type": "stream",
     "text": [
      "Siglent Technologies,SDG1032X,SDG1XDCC6R0963,1.01.01.33R3\n",
      "\n"
     ]
    }
   ],
   "source": [
    "q=fgen.query('*IDN?')\n",
    "print (q)"
   ]
  },
  {
   "cell_type": "markdown",
   "id": "92724c7a-607d-414b-ad85-4da6cf3af5b6",
   "metadata": {},
   "source": [
    "## try some commands"
   ]
  },
  {
   "cell_type": "code",
   "execution_count": 7,
   "id": "f696b2e6-7821-45b3-8b1f-496d7346eb73",
   "metadata": {},
   "outputs": [],
   "source": [
    "fgen.FuncGenInit()"
   ]
  },
  {
   "cell_type": "code",
   "execution_count": 8,
   "id": "f7529fd3-876d-475b-8e60-87fafeec0436",
   "metadata": {},
   "outputs": [],
   "source": [
    "fgen.FuncGenBasicWaveType(2,'SINE',10000) # sine wave"
   ]
  },
  {
   "cell_type": "code",
   "execution_count": 9,
   "id": "9fb13363-3607-428e-8427-870509f67e1c",
   "metadata": {},
   "outputs": [
    {
     "name": "stdout",
     "output_type": "stream",
     "text": [
      "STL WVNM,GaussPlsI,GaussPlsQ,MoreletI,MoreletQ\n",
      "\n"
     ]
    }
   ],
   "source": [
    "q = fgen.query(\"STL? USER\")\n",
    "print (q)"
   ]
  },
  {
   "cell_type": "code",
   "execution_count": 10,
   "id": "2fae65a2-4bda-4791-845c-27225acd3bed",
   "metadata": {},
   "outputs": [
    {
     "name": "stdout",
     "output_type": "stream",
     "text": [
      "STL M10, ExpFal, M100, ECG14, M101, ECG15, M102, LFPulse, M103, Tens1, M104, Tens2, M105, Tens3, M106, Airy, M107, Besselj, M108, Bessely, M109, Dirichlet, M11, ExpRise, M110, Erf, M111, Erfc, M112, ErfcInv, M113, ErfInv, M114, Laguerre, M115, Legend, M116, Versiera, M117, Weibull, M118, LogNormal, M119, Laplace, M12, LogFall, M120, Maxwell, M121, Rayleigh, M122, Cauchy, M123, CosH, M124, CosInt, M125, CotH, M126, CscH, M127, SecH, M128, SinH, M129, SinInt, M13, LogRise, M130, TanH, M131, ACosH, M132, ASecH, M133, ASinH, M134, ATanH, M135, ACsch, M136, ACoth, M137, Bartlett, M138, BohmanWin, M139, ChebWin, M14, Sqrt, M140, FlattopWin, M141, ParzenWin, M142, TaylorWin, M143, TukeyWin, M144, Duty01, M145, Duty02, M146, Duty04, M147, Duty06, M148, Duty08, M149, Duty10, M15, Root3, M150, Duty12, M151, Duty14, M152, Duty16, M153, Duty18, M154, Duty20, M155, Duty22, M156, Duty24, M157, Duty26, M158, Duty28, M159, Duty30, M16, X^2, M160, Duty32, M161, Duty34, M162, Duty36, M163, Duty38, M164, Duty40, M165, Duty42, M166, Duty44, M167, Duty46, M168, Duty48, M169, Duty50, M17, X^3, M170, Duty52, M171, Duty54, M172, Duty56, M173, Duty58, M174, Duty60, M175, Duty62, M176, Duty64, M177, Duty66, M178, Duty68, M179, Duty70, M18, Sinc, M180, Duty72, M181, Duty74, M182, Duty76, M183, Duty78, M184, Duty80, M185, Duty82, M186, Duty84, M187, Duty86, M188, Duty88, M189, Duty90, M19, Gaussian, M190, Duty92, M191, Duty94, M192, Duty96, M193, Duty98, M194, Duty99, M195, demo1_375, M196, demo1_16k, M197, demo2_3k, M198, demo2_16k, M2, StairUp, M20, Dlorentz, M21, Haversine, M22, Lorentz, M23, Gauspuls, M24, Gmonopuls, M25, Tripuls, M26, Cardiac, M27, Quake, M28, Chirp, M29, Twotone, M3, StairDn, M30, SNR, M31, Hamming, M32, Hanning, M33, kaiser, M34, Blackman, M35, Gausswin, M36, Triangle, M37, BlackmanH, M38, Bartlett-Hann, M39, Tan, M4, StairUD, M40, Cot, M41, Sec, M42, Csc, M43, Asin, M44, Acos, M45, Atan, M46, Acot, M47, Square, M48, SineTra, M49, SineVer, M5, Ppulse, M50, AmpALT, M51, AttALT, M52, RoundHalf, M53, RoundsPM, M54, BlaseiWave, M55, DampedOsc, M56, SwingOsc, M57, Discharge, M58, Pahcur, M59, Combin, M6, Npulse, M60, SCR, M61, Butterworth, M62, Chebyshev1, M63, Chebyshev2, M64, TV, M65, Voice, M66, Surge, M67, Radar, M68, Ripple, M69, Gamma, M7, Trapezia, M70, StepResp, M71, BandLimited, M72, CPulse, M73, CWPulse, M74, GateVibr, M75, LFMPulse, M76, MCNoise, M77, AM, M78, FM, M79, PFM, M8, Upramp, M80, PM, M81, PWM, M82, EOG, M83, EEG, M84, EMG, M85, Pulseilogram, M86, ResSpeed, M87, ECG1, M88, ECG2, M89, ECG3, M9, Dnramp, M90, ECG4, M91, ECG5, M92, ECG6, M93, ECG7, M94, ECG8, M95, ECG9, M96, ECG10, M97, ECG11, M98, ECG12, M99, ECG13\n",
      "\n"
     ]
    }
   ],
   "source": [
    "q = fgen.query(\"STL? BUILDIN\")\n",
    "print (q)"
   ]
  },
  {
   "cell_type": "code",
   "execution_count": 12,
   "id": "19c84c4d-986f-4e5e-935b-67da1aaf194e",
   "metadata": {},
   "outputs": [],
   "source": [
    "fgen.FuncGenAmp(2,2)"
   ]
  },
  {
   "cell_type": "code",
   "execution_count": 13,
   "id": "98af15e8-b7b6-4e25-91eb-089d37b2af3e",
   "metadata": {},
   "outputs": [],
   "source": [
    "fgen.FuncGenPolarity(2,'INVT')\n",
    "# fgen.FuncGenPolarity(2,'NOR')"
   ]
  },
  {
   "cell_type": "code",
   "execution_count": 14,
   "id": "09a76dbd-66f4-4baf-91bc-dd3b7d69b6df",
   "metadata": {},
   "outputs": [],
   "source": [
    "fgen.FuncGenOutputState(2,'OFF')"
   ]
  },
  {
   "cell_type": "code",
   "execution_count": 15,
   "id": "37682519-a9c8-4ffe-aee1-c1342e58e559",
   "metadata": {},
   "outputs": [],
   "source": [
    "fgen.FuncGenOutputState(2,'ON')"
   ]
  },
  {
   "cell_type": "code",
   "execution_count": 16,
   "id": "f526aade-23d6-4464-8d49-8f06650bad9f",
   "metadata": {},
   "outputs": [],
   "source": [
    "fgen.FuncGenPhase(2,1)"
   ]
  },
  {
   "cell_type": "code",
   "execution_count": 17,
   "id": "dad9be40-61fc-480b-bbdb-85291bf73ea5",
   "metadata": {},
   "outputs": [],
   "source": [
    "fgen.FuncGenArbWaveType(2,'NAME,MoreletI',\"DDS\",10000) # gauss pulse"
   ]
  },
  {
   "cell_type": "code",
   "execution_count": 18,
   "id": "5daf3587-a1f4-43cf-a8e8-046379825ea3",
   "metadata": {},
   "outputs": [],
   "source": [
    "fgen.FuncGenFreq(2,3000000)"
   ]
  },
  {
   "cell_type": "code",
   "execution_count": 19,
   "id": "e4c29bf0-ac26-4175-bfc8-b1cc73d6b57f",
   "metadata": {},
   "outputs": [],
   "source": [
    "fgen.FuncGenArbWaveType(2,'NAME,GaussPlsI',\"DDS\",100000)# my gauss pulse"
   ]
  },
  {
   "cell_type": "code",
   "execution_count": 20,
   "id": "5a8ac0a3-3e64-496b-b749-b0b55364a993",
   "metadata": {},
   "outputs": [],
   "source": [
    "fgen.FuncGenArbWaveType(2,'NAME,GaussPlsI',\"TARB\",30000000)# my gauss pulse"
   ]
  },
  {
   "cell_type": "code",
   "execution_count": 21,
   "id": "078a33ce-ed85-4f18-a5b3-c64650938894",
   "metadata": {},
   "outputs": [],
   "source": [
    "fgen.FuncGenArbWaveType(2,'INDEX,21',\"DDS\",100000)# builtin gauss pulse\n",
    "# fgen.FuncGenArbWaveType(2,'INDEX,21',\"TARB\",100000)# builtin gauss pulse"
   ]
  },
  {
   "cell_type": "code",
   "execution_count": 22,
   "id": "03eec9fc-9ed5-4351-95ba-6c1e52ae87ff",
   "metadata": {},
   "outputs": [],
   "source": [
    "fgen.FuncGenArbSampRate(2,3000000)"
   ]
  },
  {
   "cell_type": "code",
   "execution_count": 23,
   "id": "eb6b575b-cadf-43f5-aec6-a367884becaf",
   "metadata": {},
   "outputs": [],
   "source": [
    "fgen.FuncGenArbFrequency(2,3000000)"
   ]
  },
  {
   "cell_type": "code",
   "execution_count": 24,
   "id": "6fdfc975-b81e-4cfc-af76-ead7974d02b0",
   "metadata": {},
   "outputs": [],
   "source": [
    "fgen.FuncGenAmp(2,2)"
   ]
  },
  {
   "cell_type": "code",
   "execution_count": 25,
   "id": "008ec4a7-e3ec-4627-96f7-0270989bfcdf",
   "metadata": {},
   "outputs": [],
   "source": [
    "fgen.FuncGenBurst(2,3)"
   ]
  },
  {
   "cell_type": "code",
   "execution_count": null,
   "id": "645d78e6-d6eb-4c41-9ad0-75fc7edaae02",
   "metadata": {},
   "outputs": [],
   "source": []
  },
  {
   "cell_type": "code",
   "execution_count": null,
   "id": "db332eb9-a315-4ee6-b13b-45dd17ed0ec2",
   "metadata": {},
   "outputs": [],
   "source": []
  }
 ],
 "metadata": {
  "kernelspec": {
   "display_name": "Python 3 (ipykernel)",
   "language": "python",
   "name": "python3"
  },
  "language_info": {
   "codemirror_mode": {
    "name": "ipython",
    "version": 3
   },
   "file_extension": ".py",
   "mimetype": "text/x-python",
   "name": "python",
   "nbconvert_exporter": "python",
   "pygments_lexer": "ipython3",
   "version": "3.11.6"
  }
 },
 "nbformat": 4,
 "nbformat_minor": 5
}
