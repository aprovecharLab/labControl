{
 "cells": [
  {
   "cell_type": "code",
   "execution_count": 8,
   "id": "9934357e-53dd-40f8-b68d-bb6e68757fb5",
   "metadata": {},
   "outputs": [],
   "source": [
    "import numpy as np\n",
    "import matplotlib.pyplot as plt\n",
    "\n",
    "import pyvisa\n",
    "\n",
    "import sys\n",
    " \n",
    "%matplotlib inline"
   ]
  },
  {
   "cell_type": "markdown",
   "id": "5dfd813d-2b19-49ce-95fe-0fa11250487a",
   "metadata": {},
   "source": [
    "## adding another folder to the system path"
   ]
  },
  {
   "cell_type": "code",
   "execution_count": 9,
   "id": "da92a36a-0d1f-4c13-b92d-b1fe83acbd52",
   "metadata": {},
   "outputs": [
    {
     "data": {
      "text/plain": [
       "'/home/srbrown/Desktop/pyAcousticsLab/tests'"
      ]
     },
     "execution_count": 9,
     "metadata": {},
     "output_type": "execute_result"
    }
   ],
   "source": [
    "pwd"
   ]
  },
  {
   "cell_type": "code",
   "execution_count": 10,
   "id": "17a57b9c-c2f3-4869-a469-6b2320550386",
   "metadata": {},
   "outputs": [],
   "source": [
    "sys.path.insert(0, '/home/srbrown/Desktop/pyAcousticsLab/modules')"
   ]
  },
  {
   "cell_type": "code",
   "execution_count": 11,
   "id": "a5dea5bd-b50c-484c-9ea8-ef77f1e5033a",
   "metadata": {},
   "outputs": [],
   "source": [
    "import SiglentSCPI_VISA_oscilloscope"
   ]
  },
  {
   "cell_type": "markdown",
   "id": "550fa776-791f-490f-b05e-2868fe8f6230",
   "metadata": {},
   "source": [
    "## connect to device"
   ]
  },
  {
   "cell_type": "code",
   "execution_count": 12,
   "id": "6e1ce49e-d85c-4d26-987a-1dcd55173b6e",
   "metadata": {},
   "outputs": [],
   "source": [
    "osc = SiglentSCPI_VISA_oscilloscope.SCPI(\"10.42.0.134\")\n",
    "osc.connect()"
   ]
  },
  {
   "cell_type": "code",
   "execution_count": 13,
   "id": "3f2bea30-843c-486c-b9cd-5988d318097a",
   "metadata": {},
   "outputs": [
    {
     "name": "stdout",
     "output_type": "stream",
     "text": [
      "Siglent Technologies,SDS1104X-E,SDSMMGKD5R3540,8.2.6.1.37R9\n",
      "\n"
     ]
    }
   ],
   "source": [
    "q=osc.query('*IDN?')\n",
    "print (q)"
   ]
  },
  {
   "cell_type": "markdown",
   "id": "235a5f4e-f97b-4d19-8144-ad3b76d0a9f4",
   "metadata": {},
   "source": [
    "## try some commands"
   ]
  },
  {
   "cell_type": "code",
   "execution_count": 7,
   "id": "812d69ca-3ed9-4b41-a1ab-b839854abf03",
   "metadata": {},
   "outputs": [],
   "source": [
    "osc.OscInit()"
   ]
  },
  {
   "cell_type": "code",
   "execution_count": 13,
   "id": "f5d0796f-0a58-4421-9dc5-10cccd3f40be",
   "metadata": {},
   "outputs": [],
   "source": [
    "osc.OscSetScale(1,2)"
   ]
  },
  {
   "cell_type": "code",
   "execution_count": 14,
   "id": "c8d4c234-8f3f-45c5-a830-e42d49205bdd",
   "metadata": {},
   "outputs": [],
   "source": [
    "osc.OscSetOffset(1,0.5)"
   ]
  },
  {
   "cell_type": "code",
   "execution_count": 15,
   "id": "9fb13363-3607-428e-8427-870509f67e1c",
   "metadata": {},
   "outputs": [],
   "source": [
    "osc.OscSetTimebase(100e-6,600e-6)"
   ]
  },
  {
   "cell_type": "code",
   "execution_count": 17,
   "id": "6c62c859-2af4-40d0-8382-d2a8157b70d2",
   "metadata": {},
   "outputs": [],
   "source": [
    "s=osc.OscMeasureFreq(1)"
   ]
  },
  {
   "cell_type": "code",
   "execution_count": 18,
   "id": "7985dc1e-403c-48eb-a981-e85cd820caf8",
   "metadata": {},
   "outputs": [
    {
     "data": {
      "text/plain": [
       "1000.0"
      ]
     },
     "execution_count": 18,
     "metadata": {},
     "output_type": "execute_result"
    }
   ],
   "source": [
    "s"
   ]
  },
  {
   "cell_type": "code",
   "execution_count": null,
   "id": "5127bf86-3deb-4a34-ad65-487b9751a57e",
   "metadata": {},
   "outputs": [],
   "source": []
  },
  {
   "cell_type": "code",
   "execution_count": 14,
   "id": "ecbd7fdb-10f0-4239-8a97-83a2423227e8",
   "metadata": {},
   "outputs": [],
   "source": [
    "osc.OscDigitize(numAverage=1024, delaySeconds=2)"
   ]
  },
  {
   "cell_type": "code",
   "execution_count": 15,
   "id": "70c2beff-15b7-43de-a522-aba8846cccab",
   "metadata": {},
   "outputs": [],
   "source": [
    "t,v = osc.OscRead2Numpy(1)"
   ]
  },
  {
   "cell_type": "code",
   "execution_count": 16,
   "id": "0c529241-78ad-4e7c-9324-10f0a16b449d",
   "metadata": {},
   "outputs": [
    {
     "data": {
      "image/png": "[encoded data removed]",
      "text/plain": [
       "<Figure size 640x480 with 1 Axes>"
      ]
     },
     "metadata": {},
     "output_type": "display_data"
    }
   ],
   "source": [
    "plt.plot(t,v)\n",
    "plt.grid(True)"
   ]
  },
  {
   "cell_type": "code",
   "execution_count": null,
   "id": "55744da4-40a9-4318-8820-af8f224796ee",
   "metadata": {},
   "outputs": [],
   "source": []
  },
  {
   "cell_type": "code",
   "execution_count": 17,
   "id": "e5ea6a60-772b-43df-9497-009544f0d562",
   "metadata": {},
   "outputs": [],
   "source": [
    "osc.reset()"
   ]
  },
  {
   "cell_type": "code",
   "execution_count": 20,
   "id": "b0aa88f3-5d78-4d59-85bb-b6c2d8a12b3f",
   "metadata": {},
   "outputs": [],
   "source": [
    "osc.OscStop()"
   ]
  },
  {
   "cell_type": "code",
   "execution_count": 21,
   "id": "63519f74-f722-4541-97fb-f646e6bd0fec",
   "metadata": {},
   "outputs": [],
   "source": [
    "osc.OscRun()"
   ]
  },
  {
   "cell_type": "code",
   "execution_count": null,
   "id": "d880ef53-d83a-48ee-9d40-4318467936c2",
   "metadata": {},
   "outputs": [],
   "source": []
  },
  {
   "cell_type": "code",
   "execution_count": 22,
   "id": "fc9f8477-73a4-4f1c-9fb4-4b6d70f8370c",
   "metadata": {},
   "outputs": [],
   "source": [
    "osc.close()"
   ]
  },
  {
   "cell_type": "code",
   "execution_count": 24,
   "id": "db332eb9-a315-4ee6-b13b-45dd17ed0ec2",
   "metadata": {},
   "outputs": [
    {
     "ename": "AttributeError",
     "evalue": "'NoneType' object has no attribute 'write'",
     "output_type": "error",
     "traceback": [
      "\u001b[0;31m---------------------------------------------------------------------------\u001b[0m",
      "\u001b[0;31mAttributeError\u001b[0m                            Traceback (most recent call last)",
      "Cell \u001b[0;32mIn[24], line 1\u001b[0m\n\u001b[0;32m----> 1\u001b[0m \u001b[43mosc\u001b[49m\u001b[38;5;241;43m.\u001b[39;49m\u001b[43mOscStop\u001b[49m\u001b[43m(\u001b[49m\u001b[43m)\u001b[49m\n",
      "File \u001b[0;32m~/Desktop/pyAcousticsLab/modules/SiglentSCPI_VISA_oscilloscope.py:60\u001b[0m, in \u001b[0;36mSCPI.OscStop\u001b[0;34m(self)\u001b[0m\n\u001b[1;32m     59\u001b[0m \u001b[38;5;28;01mdef\u001b[39;00m \u001b[38;5;21mOscStop\u001b[39m(\u001b[38;5;28mself\u001b[39m):\n\u001b[0;32m---> 60\u001b[0m     \u001b[38;5;28;43mself\u001b[39;49m\u001b[38;5;241;43m.\u001b[39;49m\u001b[43msend\u001b[49m\u001b[43m(\u001b[49m\u001b[38;5;124;43m\"\u001b[39;49m\u001b[38;5;124;43m:STOP\u001b[39;49m\u001b[38;5;124;43m\"\u001b[39;49m\u001b[43m)\u001b[49m\n",
      "File \u001b[0;32m~/Desktop/pyAcousticsLab/modules/SiglentSCPI_VISA_oscilloscope.py:28\u001b[0m, in \u001b[0;36mSCPI.send\u001b[0;34m(self, cmd)\u001b[0m\n\u001b[1;32m     25\u001b[0m time\u001b[38;5;241m.\u001b[39msleep(\u001b[38;5;241m0.1\u001b[39m)\n\u001b[1;32m     26\u001b[0m \u001b[38;5;28;01mtry\u001b[39;00m:\n\u001b[1;32m     27\u001b[0m     \u001b[38;5;66;03m# print(cmd)\u001b[39;00m\n\u001b[0;32m---> 28\u001b[0m     \u001b[38;5;28;43mself\u001b[39;49m\u001b[38;5;241;43m.\u001b[39;49m\u001b[43ms\u001b[49m\u001b[38;5;241;43m.\u001b[39;49m\u001b[43mwrite\u001b[49m(cmd)\n\u001b[1;32m     29\u001b[0m \u001b[38;5;28;01mexcept\u001b[39;00m \u001b[38;5;167;01mOSError\u001b[39;00m \u001b[38;5;28;01mas\u001b[39;00m msg:\n\u001b[1;32m     30\u001b[0m     \u001b[38;5;28mprint\u001b[39m (msg)\n",
      "\u001b[0;31mAttributeError\u001b[0m: 'NoneType' object has no attribute 'write'"
     ]
    }
   ],
   "source": [
    "osc.OscStop()"
   ]
  },
  {
   "cell_type": "code",
   "execution_count": null,
   "id": "d38b2c33-f11e-4de0-99c6-b17a0ddb2038",
   "metadata": {},
   "outputs": [],
   "source": []
  }
 ],
 "metadata": {
  "kernelspec": {
   "display_name": "Python 3 (ipykernel)",
   "language": "python",
   "name": "python3"
  },
  "language_info": {
   "codemirror_mode": {
    "name": "ipython",
    "version": 3
   },
   "file_extension": ".py",
   "mimetype": "text/x-python",
   "name": "python",
   "nbconvert_exporter": "python",
   "pygments_lexer": "ipython3",
   "version": "3.11.6"
  }
 },
 "nbformat": 4,
 "nbformat_minor": 5
}
